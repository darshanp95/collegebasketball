{
 "cells": [
  {
   "cell_type": "code",
   "execution_count": 4,
   "metadata": {},
   "outputs": [
    {
     "ename": "SyntaxError",
     "evalue": "invalid syntax (<ipython-input-4-f55b56f741f5>, line 2)",
     "output_type": "error",
     "traceback": [
      "\u001b[0;36m  File \u001b[0;32m\"<ipython-input-4-f55b56f741f5>\"\u001b[0;36m, line \u001b[0;32m2\u001b[0m\n\u001b[0;31m    from dash_package/__init__ import db\u001b[0m\n\u001b[0m                     ^\u001b[0m\n\u001b[0;31mSyntaxError\u001b[0m\u001b[0;31m:\u001b[0m invalid syntax\n"
     ]
    }
   ],
   "source": [
    "# from dash_package import *\n",
    "from dash_package import db\n"
   ]
  },
  {
   "cell_type": "code",
   "execution_count": null,
   "metadata": {},
   "outputs": [],
   "source": [
    "\n",
    "\n",
    "class Coach(db.Model): #db.Model is the same as Base in original SQL Alchemy\n",
    "    id = db.Column(db.Integer, primary_key = True)\n",
    "    name = db.Column(db.Text)\n",
    "    years = db.Column(db.Integer)\n",
    "    salary = db.Column(db.Float)\n",
    "    sal_school = db.Column(db.Float)\n",
    "#     schools = relationship('School', secondary = 'joinedtable')\n",
    "    schools = db.relationship('School', secondary = JoinedTable,\n",
    "        backref=db.backref('coach'))\n",
    "\n",
    "\n",
    "\n",
    "class School(db.Model):\n",
    "    id = db.Column(db.Integer, primary_key = True)\n",
    "    name = db.Column(db.Text)\n",
    "    years = db.Column(db.Text)\n",
    "    winloss = db.Column(Float)\n",
    "    team_points = db.Column(Float)\n",
    "    opp_points = db.Column(Float)\n",
    "#     coaches = relationship('Coach', secondary = 'joinedtable')\n",
    "    coaches = db.relationship('Coach', secondary = JoinedTable,\n",
    "        backref=db.backref('school'))\n",
    "\n",
    "JoinedTable = db.table('JoinedTable',\n",
    "    db.Column('school_id', db.Integer, db.ForeignKey('school.id'), primary_key = True),\n",
    "    db.Column('coach_id', db.Integer, db.ForeignKey('coach.id'), primary_key = True)\n",
    ")\n"
   ]
  }
 ],
 "metadata": {
  "kernelspec": {
   "display_name": "Python 3",
   "language": "python",
   "name": "python3"
  },
  "language_info": {
   "codemirror_mode": {
    "name": "ipython",
    "version": 3
   },
   "file_extension": ".py",
   "mimetype": "text/x-python",
   "name": "python",
   "nbconvert_exporter": "python",
   "pygments_lexer": "ipython3",
   "version": "3.7.0"
  }
 },
 "nbformat": 4,
 "nbformat_minor": 2
}
