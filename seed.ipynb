{
 "cells": [
  {
   "cell_type": "code",
   "execution_count": 1,
   "metadata": {},
   "outputs": [],
   "source": [
    "from sqlalchemy.orm import sessionmaker\n",
    "from sqlalchemy import create_engine\n",
    "from bs4 import BeautifulSoup\n",
    "import requests\n",
    "from models import *\n",
    "from scrape import *"
   ]
  },
  {
   "cell_type": "code",
   "execution_count": 2,
   "metadata": {},
   "outputs": [],
   "source": [
    "engine = create_engine('sqlite:///basketball.db')\n",
    "Session = sessionmaker(bind = engine)\n",
    "session = Session()"
   ]
  },
  {
   "cell_type": "code",
   "execution_count": 3,
   "metadata": {},
   "outputs": [],
   "source": [
    "def Instantiate(year1,year2):\n",
    "    coachsite_objects = CoachSite()\n",
    "    lowered = list(map(lambda school : school.lower(),coachsite_objects.salaries[1]))\n",
    "    school_list = list(map(lambda school : school.replace(' ', '-'), lowered))\n",
    "    teamsite_objects = {}\n",
    "    for school in school_list:\n",
    "        teamsite_objects[school] = TeamSite(school,year1,year2)\n",
    "    return teamsite_objects, coachsite_objects"
   ]
  },
  {
   "cell_type": "code",
   "execution_count": 4,
   "metadata": {},
   "outputs": [],
   "source": [
    "everything = (Instantiate(2011,2018))\n",
    "teamsite = everything[0] # gives you a dictionary with keys = school name and values\\n\",\n",
    "             # are TeamSite instances\\n\",\n",
    "keys = list((teamsite).keys())\n",
    "coachsite = everything[1] #gives you object instance\\n\",\n",
    "\n",
    "#######Instansiate coach model##########\n",
    "coach_instances = []\n",
    "for tup in coachsite.salaries[0]:\n",
    "    tup2 = int(tup[2].replace('$','').replace(',',''))\n",
    "    c_instance = Coach(name = tup[0] , years = tup[1] , salary = tup2,\\\n",
    "                       sal_school = tup[3])\n",
    "\n",
    "    session.add(c_instance)\n",
    "    coach_instances.append(c_instance)\n",
    "\n",
    "#######Instansiate school model##########\n",
    "team_instances = []\n",
    "for school_name in keys:\n",
    "    years_ = teamsite[school_name].years\n",
    "    winloss_ = teamsite[school_name].winloss\n",
    "    team_points_ = teamsite[school_name].team_points\n",
    "    opp_points_ = teamsite[school_name].opp_points\n",
    "\n",
    "    for i in range(0,len(years_)):\n",
    "        if years_[i] != '' and winloss_[i] != '' and team_points_[i] != '' and opp_points_[i] != '':\n",
    "            team_instance = School(name = school_name, years = years_[i], winloss = winloss_[i],\\\n",
    "                            team_points = team_points_[i], opp_points = opp_points_[i])\n",
    "            for coach in coach_instances:\n",
    "                if coach.sal_school.replace(' ', '-').lower() == team_instance.name and coach.years == (team_instance.years)[:-3]:\n",
    "                    team_instance.coaches.append(coach)\n",
    "                    session.add(team_instance)\n",
    "                    team_instances.append(team_instance)                   "
   ]
  },
  {
   "cell_type": "code",
   "execution_count": 5,
   "metadata": {},
   "outputs": [],
   "source": [
    "session.commit()"
   ]
  },
  {
   "cell_type": "code",
   "execution_count": 16,
   "metadata": {},
   "outputs": [
    {
     "data": {
      "text/plain": [
       "{'_sa_instance_state': <sqlalchemy.orm.state.InstanceState at 0x1231a2550>,\n",
       " 'name': 'Chris Beard',\n",
       " 'years': '2016',\n",
       " 'salary': 260000,\n",
       " 'sal_school': 'Arkansas-Little Rock',\n",
       " 'schools': [<models.School at 0x12343de80>]}"
      ]
     },
     "execution_count": 16,
     "metadata": {},
     "output_type": "execute_result"
    }
   ],
   "source": [
    "vars(team_instance.coaches[0])"
   ]
  },
  {
   "cell_type": "code",
   "execution_count": 11,
   "metadata": {},
   "outputs": [
    {
     "data": {
      "text/plain": [
       "[]"
      ]
     },
     "execution_count": 11,
     "metadata": {},
     "output_type": "execute_result"
    }
   ],
   "source": [
    "team_instance.coaches"
   ]
  },
  {
   "cell_type": "code",
   "execution_count": null,
   "metadata": {},
   "outputs": [],
   "source": []
  }
 ],
 "metadata": {
  "kernelspec": {
   "display_name": "Python 3",
   "language": "python",
   "name": "python3"
  },
  "language_info": {
   "codemirror_mode": {
    "name": "ipython",
    "version": 3
   },
   "file_extension": ".py",
   "mimetype": "text/x-python",
   "name": "python",
   "nbconvert_exporter": "python",
   "pygments_lexer": "ipython3",
   "version": "3.7.0"
  }
 },
 "nbformat": 4,
 "nbformat_minor": 2
}
